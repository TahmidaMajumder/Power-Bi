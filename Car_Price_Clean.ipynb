{
 "cells": [
  {
   "cell_type": "code",
   "execution_count": 1,
   "id": "49879705",
   "metadata": {},
   "outputs": [],
   "source": [
    "import pandas as pd\n",
    "import numpy as np\n",
    "import seaborn as sns\n",
    "import matplotlib.pyplot as plt\n",
    "%matplotlib inline"
   ]
  },
  {
   "cell_type": "code",
   "execution_count": 2,
   "id": "a276da84",
   "metadata": {},
   "outputs": [],
   "source": [
    "car_df = pd.read_csv(r\"C:\\Users\\Tahmida\\Downloads\\car_prices.csv\\car_prices.csv\")"
   ]
  },
  {
   "cell_type": "code",
   "execution_count": 3,
   "id": "74449164",
   "metadata": {},
   "outputs": [
    {
     "data": {
      "text/html": [
       "<div>\n",
       "<style scoped>\n",
       "    .dataframe tbody tr th:only-of-type {\n",
       "        vertical-align: middle;\n",
       "    }\n",
       "\n",
       "    .dataframe tbody tr th {\n",
       "        vertical-align: top;\n",
       "    }\n",
       "\n",
       "    .dataframe thead th {\n",
       "        text-align: right;\n",
       "    }\n",
       "</style>\n",
       "<table border=\"1\" class=\"dataframe\">\n",
       "  <thead>\n",
       "    <tr style=\"text-align: right;\">\n",
       "      <th></th>\n",
       "      <th>year</th>\n",
       "      <th>make</th>\n",
       "      <th>model</th>\n",
       "      <th>trim</th>\n",
       "      <th>body</th>\n",
       "      <th>transmission</th>\n",
       "      <th>vin</th>\n",
       "      <th>state</th>\n",
       "      <th>condition</th>\n",
       "      <th>odometer</th>\n",
       "      <th>color</th>\n",
       "      <th>interior</th>\n",
       "      <th>seller</th>\n",
       "      <th>mmr</th>\n",
       "      <th>sellingprice</th>\n",
       "      <th>saledate</th>\n",
       "    </tr>\n",
       "  </thead>\n",
       "  <tbody>\n",
       "    <tr>\n",
       "      <th>0</th>\n",
       "      <td>2015</td>\n",
       "      <td>Kia</td>\n",
       "      <td>Sorento</td>\n",
       "      <td>LX</td>\n",
       "      <td>SUV</td>\n",
       "      <td>automatic</td>\n",
       "      <td>5xyktca69fg566472</td>\n",
       "      <td>ca</td>\n",
       "      <td>5.0</td>\n",
       "      <td>16639.0</td>\n",
       "      <td>white</td>\n",
       "      <td>black</td>\n",
       "      <td>kia motors america  inc</td>\n",
       "      <td>20500.0</td>\n",
       "      <td>21500.0</td>\n",
       "      <td>Tue Dec 16 2014 12:30:00 GMT-0800 (PST)</td>\n",
       "    </tr>\n",
       "    <tr>\n",
       "      <th>1</th>\n",
       "      <td>2015</td>\n",
       "      <td>Kia</td>\n",
       "      <td>Sorento</td>\n",
       "      <td>LX</td>\n",
       "      <td>SUV</td>\n",
       "      <td>automatic</td>\n",
       "      <td>5xyktca69fg561319</td>\n",
       "      <td>ca</td>\n",
       "      <td>5.0</td>\n",
       "      <td>9393.0</td>\n",
       "      <td>white</td>\n",
       "      <td>beige</td>\n",
       "      <td>kia motors america  inc</td>\n",
       "      <td>20800.0</td>\n",
       "      <td>21500.0</td>\n",
       "      <td>Tue Dec 16 2014 12:30:00 GMT-0800 (PST)</td>\n",
       "    </tr>\n",
       "    <tr>\n",
       "      <th>2</th>\n",
       "      <td>2014</td>\n",
       "      <td>BMW</td>\n",
       "      <td>3 Series</td>\n",
       "      <td>328i SULEV</td>\n",
       "      <td>Sedan</td>\n",
       "      <td>automatic</td>\n",
       "      <td>wba3c1c51ek116351</td>\n",
       "      <td>ca</td>\n",
       "      <td>45.0</td>\n",
       "      <td>1331.0</td>\n",
       "      <td>gray</td>\n",
       "      <td>black</td>\n",
       "      <td>financial services remarketing (lease)</td>\n",
       "      <td>31900.0</td>\n",
       "      <td>30000.0</td>\n",
       "      <td>Thu Jan 15 2015 04:30:00 GMT-0800 (PST)</td>\n",
       "    </tr>\n",
       "    <tr>\n",
       "      <th>3</th>\n",
       "      <td>2015</td>\n",
       "      <td>Volvo</td>\n",
       "      <td>S60</td>\n",
       "      <td>T5</td>\n",
       "      <td>Sedan</td>\n",
       "      <td>automatic</td>\n",
       "      <td>yv1612tb4f1310987</td>\n",
       "      <td>ca</td>\n",
       "      <td>41.0</td>\n",
       "      <td>14282.0</td>\n",
       "      <td>white</td>\n",
       "      <td>black</td>\n",
       "      <td>volvo na rep/world omni</td>\n",
       "      <td>27500.0</td>\n",
       "      <td>27750.0</td>\n",
       "      <td>Thu Jan 29 2015 04:30:00 GMT-0800 (PST)</td>\n",
       "    </tr>\n",
       "    <tr>\n",
       "      <th>4</th>\n",
       "      <td>2014</td>\n",
       "      <td>BMW</td>\n",
       "      <td>6 Series Gran Coupe</td>\n",
       "      <td>650i</td>\n",
       "      <td>Sedan</td>\n",
       "      <td>automatic</td>\n",
       "      <td>wba6b2c57ed129731</td>\n",
       "      <td>ca</td>\n",
       "      <td>43.0</td>\n",
       "      <td>2641.0</td>\n",
       "      <td>gray</td>\n",
       "      <td>black</td>\n",
       "      <td>financial services remarketing (lease)</td>\n",
       "      <td>66000.0</td>\n",
       "      <td>67000.0</td>\n",
       "      <td>Thu Dec 18 2014 12:30:00 GMT-0800 (PST)</td>\n",
       "    </tr>\n",
       "  </tbody>\n",
       "</table>\n",
       "</div>"
      ],
      "text/plain": [
       "   year   make                model        trim   body transmission  \\\n",
       "0  2015    Kia              Sorento          LX    SUV    automatic   \n",
       "1  2015    Kia              Sorento          LX    SUV    automatic   \n",
       "2  2014    BMW             3 Series  328i SULEV  Sedan    automatic   \n",
       "3  2015  Volvo                  S60          T5  Sedan    automatic   \n",
       "4  2014    BMW  6 Series Gran Coupe        650i  Sedan    automatic   \n",
       "\n",
       "                 vin state  condition  odometer  color interior  \\\n",
       "0  5xyktca69fg566472    ca        5.0   16639.0  white    black   \n",
       "1  5xyktca69fg561319    ca        5.0    9393.0  white    beige   \n",
       "2  wba3c1c51ek116351    ca       45.0    1331.0   gray    black   \n",
       "3  yv1612tb4f1310987    ca       41.0   14282.0  white    black   \n",
       "4  wba6b2c57ed129731    ca       43.0    2641.0   gray    black   \n",
       "\n",
       "                                   seller      mmr  sellingprice  \\\n",
       "0                 kia motors america  inc  20500.0       21500.0   \n",
       "1                 kia motors america  inc  20800.0       21500.0   \n",
       "2  financial services remarketing (lease)  31900.0       30000.0   \n",
       "3                 volvo na rep/world omni  27500.0       27750.0   \n",
       "4  financial services remarketing (lease)  66000.0       67000.0   \n",
       "\n",
       "                                  saledate  \n",
       "0  Tue Dec 16 2014 12:30:00 GMT-0800 (PST)  \n",
       "1  Tue Dec 16 2014 12:30:00 GMT-0800 (PST)  \n",
       "2  Thu Jan 15 2015 04:30:00 GMT-0800 (PST)  \n",
       "3  Thu Jan 29 2015 04:30:00 GMT-0800 (PST)  \n",
       "4  Thu Dec 18 2014 12:30:00 GMT-0800 (PST)  "
      ]
     },
     "execution_count": 3,
     "metadata": {},
     "output_type": "execute_result"
    }
   ],
   "source": [
    "car_df.head()"
   ]
  },
  {
   "cell_type": "code",
   "execution_count": 4,
   "id": "43baba3d",
   "metadata": {},
   "outputs": [
    {
     "data": {
      "text/plain": [
       "Index(['year', 'make', 'model', 'trim', 'body', 'transmission', 'vin', 'state',\n",
       "       'condition', 'odometer', 'color', 'interior', 'seller', 'mmr',\n",
       "       'sellingprice', 'saledate'],\n",
       "      dtype='object')"
      ]
     },
     "execution_count": 4,
     "metadata": {},
     "output_type": "execute_result"
    }
   ],
   "source": [
    "car_df.columns"
   ]
  },
  {
   "cell_type": "code",
   "execution_count": 5,
   "id": "ebb64491",
   "metadata": {},
   "outputs": [
    {
     "data": {
      "text/html": [
       "<div>\n",
       "<style scoped>\n",
       "    .dataframe tbody tr th:only-of-type {\n",
       "        vertical-align: middle;\n",
       "    }\n",
       "\n",
       "    .dataframe tbody tr th {\n",
       "        vertical-align: top;\n",
       "    }\n",
       "\n",
       "    .dataframe thead th {\n",
       "        text-align: right;\n",
       "    }\n",
       "</style>\n",
       "<table border=\"1\" class=\"dataframe\">\n",
       "  <thead>\n",
       "    <tr style=\"text-align: right;\">\n",
       "      <th></th>\n",
       "      <th>year</th>\n",
       "      <th>condition</th>\n",
       "      <th>odometer</th>\n",
       "      <th>mmr</th>\n",
       "      <th>sellingprice</th>\n",
       "    </tr>\n",
       "  </thead>\n",
       "  <tbody>\n",
       "    <tr>\n",
       "      <th>count</th>\n",
       "      <td>558837.000000</td>\n",
       "      <td>547017.000000</td>\n",
       "      <td>558743.000000</td>\n",
       "      <td>558799.000000</td>\n",
       "      <td>558825.000000</td>\n",
       "    </tr>\n",
       "    <tr>\n",
       "      <th>mean</th>\n",
       "      <td>2010.038927</td>\n",
       "      <td>30.672365</td>\n",
       "      <td>68320.017767</td>\n",
       "      <td>13769.377495</td>\n",
       "      <td>13611.358810</td>\n",
       "    </tr>\n",
       "    <tr>\n",
       "      <th>std</th>\n",
       "      <td>3.966864</td>\n",
       "      <td>13.402832</td>\n",
       "      <td>53398.542821</td>\n",
       "      <td>9679.967174</td>\n",
       "      <td>9749.501628</td>\n",
       "    </tr>\n",
       "    <tr>\n",
       "      <th>min</th>\n",
       "      <td>1982.000000</td>\n",
       "      <td>1.000000</td>\n",
       "      <td>1.000000</td>\n",
       "      <td>25.000000</td>\n",
       "      <td>1.000000</td>\n",
       "    </tr>\n",
       "    <tr>\n",
       "      <th>25%</th>\n",
       "      <td>2007.000000</td>\n",
       "      <td>23.000000</td>\n",
       "      <td>28371.000000</td>\n",
       "      <td>7100.000000</td>\n",
       "      <td>6900.000000</td>\n",
       "    </tr>\n",
       "    <tr>\n",
       "      <th>50%</th>\n",
       "      <td>2012.000000</td>\n",
       "      <td>35.000000</td>\n",
       "      <td>52254.000000</td>\n",
       "      <td>12250.000000</td>\n",
       "      <td>12100.000000</td>\n",
       "    </tr>\n",
       "    <tr>\n",
       "      <th>75%</th>\n",
       "      <td>2013.000000</td>\n",
       "      <td>42.000000</td>\n",
       "      <td>99109.000000</td>\n",
       "      <td>18300.000000</td>\n",
       "      <td>18200.000000</td>\n",
       "    </tr>\n",
       "    <tr>\n",
       "      <th>max</th>\n",
       "      <td>2015.000000</td>\n",
       "      <td>49.000000</td>\n",
       "      <td>999999.000000</td>\n",
       "      <td>182000.000000</td>\n",
       "      <td>230000.000000</td>\n",
       "    </tr>\n",
       "  </tbody>\n",
       "</table>\n",
       "</div>"
      ],
      "text/plain": [
       "                year      condition       odometer            mmr  \\\n",
       "count  558837.000000  547017.000000  558743.000000  558799.000000   \n",
       "mean     2010.038927      30.672365   68320.017767   13769.377495   \n",
       "std         3.966864      13.402832   53398.542821    9679.967174   \n",
       "min      1982.000000       1.000000       1.000000      25.000000   \n",
       "25%      2007.000000      23.000000   28371.000000    7100.000000   \n",
       "50%      2012.000000      35.000000   52254.000000   12250.000000   \n",
       "75%      2013.000000      42.000000   99109.000000   18300.000000   \n",
       "max      2015.000000      49.000000  999999.000000  182000.000000   \n",
       "\n",
       "        sellingprice  \n",
       "count  558825.000000  \n",
       "mean    13611.358810  \n",
       "std      9749.501628  \n",
       "min         1.000000  \n",
       "25%      6900.000000  \n",
       "50%     12100.000000  \n",
       "75%     18200.000000  \n",
       "max    230000.000000  "
      ]
     },
     "execution_count": 5,
     "metadata": {},
     "output_type": "execute_result"
    }
   ],
   "source": [
    "car_df.describe()"
   ]
  },
  {
   "cell_type": "code",
   "execution_count": 6,
   "id": "e7b18e79",
   "metadata": {},
   "outputs": [
    {
     "name": "stdout",
     "output_type": "stream",
     "text": [
      "<class 'pandas.core.frame.DataFrame'>\n",
      "RangeIndex: 558837 entries, 0 to 558836\n",
      "Data columns (total 16 columns):\n",
      " #   Column        Non-Null Count   Dtype  \n",
      "---  ------        --------------   -----  \n",
      " 0   year          558837 non-null  int64  \n",
      " 1   make          548536 non-null  object \n",
      " 2   model         548438 non-null  object \n",
      " 3   trim          548186 non-null  object \n",
      " 4   body          545642 non-null  object \n",
      " 5   transmission  493485 non-null  object \n",
      " 6   vin           558833 non-null  object \n",
      " 7   state         558837 non-null  object \n",
      " 8   condition     547017 non-null  float64\n",
      " 9   odometer      558743 non-null  float64\n",
      " 10  color         558088 non-null  object \n",
      " 11  interior      558088 non-null  object \n",
      " 12  seller        558837 non-null  object \n",
      " 13  mmr           558799 non-null  float64\n",
      " 14  sellingprice  558825 non-null  float64\n",
      " 15  saledate      558825 non-null  object \n",
      "dtypes: float64(4), int64(1), object(11)\n",
      "memory usage: 68.2+ MB\n"
     ]
    }
   ],
   "source": [
    "car_df.info()"
   ]
  },
  {
   "cell_type": "code",
   "execution_count": 7,
   "id": "63d94e7d",
   "metadata": {},
   "outputs": [],
   "source": [
    "unique_values = {col: car_df[col].unique() for col in car_df}"
   ]
  },
  {
   "cell_type": "code",
   "execution_count": 8,
   "id": "318b88ab",
   "metadata": {},
   "outputs": [
    {
     "data": {
      "text/plain": [
       "{'year': array([2015, 2014, 2013, 2012, 2011, 2010, 2009, 2008, 2007, 2006, 2005,\n",
       "        2004, 2003, 2002, 2001, 2000, 1999, 1998, 1995, 1996, 1997, 1987,\n",
       "        1994, 1993, 1992, 1989, 1991, 1990, 1986, 1985, 1988, 1984, 1982,\n",
       "        1983], dtype=int64),\n",
       " 'make': array(['Kia', 'BMW', 'Volvo', 'Nissan', 'Chevrolet', 'Audi', 'Ford',\n",
       "        'Hyundai', 'Buick', 'Cadillac', 'Acura', 'Lexus', 'Infiniti',\n",
       "        'Jeep', 'Mercedes-Benz', 'Mitsubishi', 'Mazda', 'MINI',\n",
       "        'Land Rover', 'Lincoln', 'lincoln', 'Jaguar', 'Volkswagen',\n",
       "        'Toyota', 'Subaru', 'Scion', 'Porsche', nan, 'bmw', 'Dodge',\n",
       "        'FIAT', 'Chrysler', 'ford', 'Ferrari', 'Honda', 'GMC',\n",
       "        'mitsubishi', 'Ram', 'smart', 'chevrolet', 'Bentley', 'chrysler',\n",
       "        'pontiac', 'Pontiac', 'Saturn', 'Maserati', 'Mercury', 'HUMMER',\n",
       "        'landrover', 'cadillac', 'land rover', 'mercedes', 'mazda',\n",
       "        'toyota', 'lexus', 'gmc truck', 'honda', 'nissan', 'porsche',\n",
       "        'Saab', 'Suzuki', 'dodge', 'subaru', 'Oldsmobile', 'oldsmobile',\n",
       "        'hyundai', 'jeep', 'Isuzu', 'dodge tk', 'Geo', 'acura',\n",
       "        'volkswagen', 'suzuki', 'kia', 'audi', 'Rolls-Royce', 'gmc',\n",
       "        'maserati', 'mazda tk', 'mercury', 'buick', 'hyundai tk',\n",
       "        'mercedes-b', 'vw', 'Daewoo', 'chev truck', 'ford tk', 'plymouth',\n",
       "        'Plymouth', 'ford truck', 'Tesla', 'airstream', 'dot',\n",
       "        'Aston Martin', 'Fisker', 'Lamborghini', 'Lotus'], dtype=object),\n",
       " 'model': array(['Sorento', '3 Series', 'S60', '6 Series Gran Coupe', 'Altima',\n",
       "        'M5', 'Cruze', 'A4', 'Camaro', 'A6', 'Optima', 'Fusion', 'Sonata',\n",
       "        'Q5', '6 Series', 'Impala', '5 Series', 'A3', 'XC70', 'X5', 'SQ5',\n",
       "        'S5', 'Verano', 'Suburban', 'ELR', 'V60', 'X6', 'ILX', 'K900',\n",
       "        'Malibu', 'RX 350', 'Versa', 'Elantra', 'Versa Note', 'A8', 'X1',\n",
       "        nan, 'Enclave', 'TTS', '4 Series', 'Silverado 2500HD', 'MDX',\n",
       "        'Silverado 1500', 'SRX', 'G Coupe', 'G Sedan', 'FX', 'Santa Fe',\n",
       "        'Genesis', 'Equus', 'Sonata Hybrid', 'Accent', 'Veloster',\n",
       "        'Elantra Coupe', 'Azera', 'Tucson', 'Genesis Coupe', 'Wrangler',\n",
       "        'S-Class', 'GS 350', 'Outlander', 'C-Class', 'Mazda2', 'Rio', 'M',\n",
       "        '370Z', 'Soul', 'Outlander Sport', 'SLK-Class', 'ES 350',\n",
       "        'E-Class', 'Mazda3', 'Cooper Clubman', 'Cooper', 'CX-9', 'Forte',\n",
       "        'Compass', 'JX', 'RX 450h', 'LR4', 'Mazda5', 'Range Rover Evoque',\n",
       "        'LS 460', 'GLK-Class', 'Sportage', 'Grand Cherokee', 'MKX', 'mkt',\n",
       "        'XF', 'GL-Class', 'M-Class', 'Cooper Countryman', 'Lancer',\n",
       "        'Range Rover Sport', 'Passat', 'Corolla', 'XC60', 'Sienna', 'Juke',\n",
       "        'Yaris', 'Sentra', 'Rogue', 'NV', 'CC', 'Leaf', 'Camry', 'Tacoma',\n",
       "        'Jetta', 'Impreza WRX', 'FJ Cruiser', 'Beetle', 'Avalon', 'FR-S',\n",
       "        'NV200', 'RAV4', 'Quest', 'Tundra', 'tC', 'Maxima', 'Cayenne',\n",
       "        '911', 'Xterra', 'Prius', 'S80', 'Frontier', 'Boxster',\n",
       "        'Camry Hybrid', 'xB', 'Cube', 'Jetta SportWagen', '4Runner',\n",
       "        'Sequoia', 'Legacy', 'Armada', 'Venza', 'Murano', 'Pathfinder',\n",
       "        'Panamera', 'Forester', 'Highlander', 'Impreza', '750i', 'TSX',\n",
       "        '7 Series', '1 Series', 'TL', '750li', 'S4', 'A7', 'A5', 'RDX',\n",
       "        'M3', 'Cooper Coupe', 'ZDX', 'R8', 'X3', 'Avenger',\n",
       "        'E-Series Wagon', 'Escape', 'Edge', 'Focus', 'Flex', 'Z4',\n",
       "        'Traverse', 'F-350 Super Duty', 'Fiesta', '500', '200', 'Journey',\n",
       "        'Charger', 'e350', 'Equinox', '300', 'F-150', 'Explorer',\n",
       "        'Captiva Sport', 'Escalade', 'Grand Caravan', 'CTS Coupe',\n",
       "        'Town and Country', 'E-Series Van', 'Volt', 'Express Cargo',\n",
       "        'e150', 'X5 M', 'Expedition', 'Colorado', 'Express', 'California',\n",
       "        'Escalade ESV', 'Sonic', 'Accord', 'CR-V', 'Mustang', 'Civic',\n",
       "        'Fit', 'Pilot', 'Odyssey', 'Crosstour', 'Transit Connect',\n",
       "        'Terrain', 'Taurus', 'G Convertible', 'Yukon', 'Veracruz', 'XJ',\n",
       "        'Liberty', 'IS 250', 'XK', 'QX', 'CT 200h', 'Mazda6', 'MKZ',\n",
       "        'Navigator', 'Range Rover', 'SL-Class', 'Sedona', 'IS 350',\n",
       "        'Patriot', 'galant', '1500', 'GT-R', '2500', 'Galant', 'fortwo',\n",
       "        'GLI', '5 Series Gran Turismo', 'XC90', 'Tiguan', 'GTI', 'Q7',\n",
       "        'Highlander Hybrid', 'Prius Plug-in', 'CR-Z', 'EX', 'Sierra 1500',\n",
       "        'LaCrosse', 'HHR', 'Accord Crosstour', 'CTS', 'Nitro', 'Tahoe',\n",
       "        'Challenger', 'CTS-V', 'Escape Hybrid', 'X6 M', 'Ranger',\n",
       "        'Insight', 'Fusion Hybrid', 'CTS-V Coupe', 'F-250 Super Duty',\n",
       "        'Acadia', 'Impala Limited', 'Dart', 'Spark', 'M37', 'Sprinter',\n",
       "        'Town Car', 'CLS-Class', 'CX-7', 'MKT', 'QX56', 'Aveo', 'Outback',\n",
       "        'Caliber', 'Routan', 'g1500', 'Sebring', 'Corvette',\n",
       "        'Continental GT Speed', 'malibu', 'Land Cruiser', 'town', 'V50',\n",
       "        'Commander', 'Altima Hybrid', 'G37 Convertible', 'g6',\n",
       "        'New Beetle', 'Golf', 'LR2', 'Lancer Sportback', 'G5', 'Yukon XL',\n",
       "        'Escalade Hybrid', 'Avalanche', 'Titan', 'Spectra', 'Rondo',\n",
       "        'Borrego', 'G-Class', 'MKS', 'CLK-Class', 'Tahoe Hybrid',\n",
       "        'Econoline Cargo', 'Econoline Wagon', 'PT Cruiser', 'STS',\n",
       "        'Ridgeline', 'F-450 Super Duty', 'Magnum', 'Durango', 'S40',\n",
       "        'Malibu Classic', 'TT', 'Taurus X', 'Explorer Sport Trac',\n",
       "        'Ram Pickup 1500', 'impala', 'Cobalt', 'Pacifica', 'S6', 'Rabbit',\n",
       "        'C70', 'Sierra 2500HD', 'C30', 'VUE', 'GranTurismo', 'G6',\n",
       "        'Grand Prix', '350Z', 'Raider', 'Mazdaspeed Mazda3', 'Solstice',\n",
       "        'Milan', 'GX 470', 'Aura', 'RX 400h', 'Matrix', 'H3', 'CL-Class',\n",
       "        'Outlook', '7', 'G37', 'IS F', 'Touareg 2', 'Lancer Evolution',\n",
       "        'G35', 'xD', 'XJ-Series', 'G8', 'hhr', 'H2', 'DTS', 'lr3', 'sts',\n",
       "        'Silverado 1500 Classic', 'M45', 'Uplander', 'GS 450h', 'corvette',\n",
       "        'rangerover', 'Rendezvous', 'Monte Carlo', 'FX35', 'range', 'ION',\n",
       "        'R-Class', 'lancer', 'Eclipse', 'c230wz', 'cx-7', 'B9 Tribeca',\n",
       "        'matrix', 'tundra', 'RSX', 'mazda5', 'Mariner', 'gx',\n",
       "        'Five Hundred', 'Envoy XL', 'S-Type', 'Element',\n",
       "        'Continental Flying Spur', 'S2000', 'FX45', 'sr', 'pilot',\n",
       "        'GS 430', 'Cayman S', 'Mark LT', 'ES 330', 'GS 300', '350z',\n",
       "        'Camry Solara', 'rx8', 'Touareg', 'Relay', 'lx', 'allroad quattro',\n",
       "        '9-3', '500L', 'C-Max Hybrid', 'pacifica', 'Freestyle',\n",
       "        'Ram Pickup 3500', 'Sprinter Cargo', 'DeVille', 'H2 SUT',\n",
       "        'TrailBlazer', 'Canyon', 'srx', 'Dakota', 'Continental GT', 'Neon',\n",
       "        'Stratus', 'Q45', 'Freestar', 'Montana', 'Grand Marquis', 'XLR',\n",
       "        'Aviator', 'g55', 'MPV', 'LS 430', 'Verona', 'Forenza', 'RX 330',\n",
       "        '300M', 'SC 430', 'discovery', 'Excursion', 'Envoy XUV', 'Envoy',\n",
       "        'Concorde', 'Monterey', 'stratus', 'Mountaineer', 'Amanti',\n",
       "        'Malibu Maxx', 'Celica', 'Grand Am', 'Endeavor', 'Marauder',\n",
       "        'escape', 'QX4', 'LS', 'Blazer', 'Ram Pickup 2500', 'LeSabre',\n",
       "        'V40', 'Mazdaspeed Protege', 'Montero', 'ES 300', 'focus',\n",
       "        'Thunderbird', 'Century', 'Cavalier', 'Venture', 'S-10', 's55',\n",
       "        'Cougar', 'XL-7', 'Windstar', 'Silverado 1500HD', 'Explorer Sport',\n",
       "        'Savana Cargo', 'X-Type', 'Sonoma', 'IS 300', 'forester',\n",
       "        'Protege5', 'sprinter', 'RL', 'Alero', 'Grand Vitara', 'RX 300',\n",
       "        'L-Series', 'V70', 'Intrigue', 'XC', 'Discovery Series II',\n",
       "        'S-Series', 'alero', 'santa', 'ECHO', 'MX-5 Miata', 'Continental',\n",
       "        'Seville', 'camry', 'Park Avenue', 'Millenia', 'I30', 'gr',\n",
       "        'sienna', 'camaro', 'Cherokee', 'Z3', 'civic', 'ram', 'odyssey',\n",
       "        'taurus', 'expedition', 'Prizm', 'Escort', 's10', 'LHS',\n",
       "        'windstar', 'f250', 'Regal', 'explorer', 'G20', 'Bonneville',\n",
       "        'Eldorado', 'voyager', 'venture', 'durango', 'Intrepid', 'Contour',\n",
       "        'S90', 'Sunfire', 'mpv', 'caravan', '200SX', 'Rodeo', 'wrangler',\n",
       "        'f150', 'Tercel', 'S70', 'Discovery', 'Mustang SVT Cobra', '300e',\n",
       "        'pickup', 'ciera', 'Legend', 'LS 400', 'Cutlass Ciera',\n",
       "        'Santa Fe Sport', 'Cadenza', 'Q50', 'Elantra GT', 'F-TYPE',\n",
       "        'Shelby GT500', 'QX70', 'QX60', 'Q60 Convertible',\n",
       "        'Cooper Roadster', 'CX-5', 'Cooper Paceman', 'Rogue Select',\n",
       "        'Cayman', 'CLA-Class', 'allroad', 'ATS', 'Prius v',\n",
       "        'Continental GTC', 'XV Crosstrek', '3500', 'C-Max Energi',\n",
       "        'Focus ST', 'RS 7', 'GX 460', 'CTS Wagon', 'SLS AMG', 'Aspen',\n",
       "        'Eclipse Spyder', 'Vibe', 'Eos', 'Entourage', 'expeditn', 'rl',\n",
       "        'Caravan', 'Quattroporte', 'M35', '9-5', 'SSR', 'Astro Cargo',\n",
       "        'Safari Cargo', 'passat', 'Tribute', 'Diamante', 'Sable',\n",
       "        'Silverado 3500', 'Phaeton', 'R32', 'I35', 'g500', 'Bravada',\n",
       "        'Tahoe Limited/Z71', 'Truck', 'C/K 1500 Series', 'grand', 'SC 300',\n",
       "        'Roadmaster', 'SC 400', '420sel', 'LX 570', 'QX80', 'RS 5',\n",
       "        'Jetta GLI', 'ES 300h', 'capt', 'M4', 'SX4', 'iQ', 'Kizashi',\n",
       "        'C/V Cargo Van', 'Prius c', '750lxi', 'alp', 'Lucerne',\n",
       "        'Escalade EXT', 'Silverado 3500HD', 'Crown Victoria',\n",
       "        'Sierra 3500HD', 'M56', 'rio', 'IS 250 C', '3', 'endeavor',\n",
       "        'corolla', 'jetta', 'ActiveHybrid X6', 'a4', 'dts', 'g3500',\n",
       "        'colorado', 'sebring', 'e250', 'police', 'Elantra Touring',\n",
       "        'G37 Coupe', 'HS 250h', 'journey', 'Mazdaspeed3', 'Milan Hybrid',\n",
       "        'Ghost', 'Silverado 1500 Hybrid', 'crown', 'Yukon Hybrid',\n",
       "        'elantra', 'optima', 'borrego', 'mazda6', '6', 'Mariner Hybrid',\n",
       "        'montana', 'Torrent', 'VUE Hybrid', 'G3', '9-7X', 'vibe',\n",
       "        'Expedition EL', 'Tiburon', 'patriot', 'LR3', 'Navigator L',\n",
       "        'Astra', 'Tribeca', 'XL7', 'sx4', 'Sky', 'Reno', 'M6', 'S8',\n",
       "        'Terraza', 'Silverado 2500HD Classic', 'uplander', 'ram3500',\n",
       "        'Sierra 1500 Classic', 'Sierra 2500HD Classic', 'Fusion Energi',\n",
       "        'XK-Series', 'quattroporte', 'B-Series Truck', 'mazda3', 'b200',\n",
       "        'Mazdaspeed Mazda6', 'Montego', 'g5', 'yaris', 'Rainier',\n",
       "        'TrailBlazer EXT', 'optra', 'Crossfire', 'magnum', 'savana',\n",
       "        'Sierra 1500HD', 'ridgelin', 'Savana', 'Zephyr', 'rrs', 'tribute',\n",
       "        'carrera', 'Montana SV6', 'wave', 'tt', 'Classic', 'pt',\n",
       "        'freestyle', 'Ascender', 'XG350', 'Q60 Coupe', 'Q70', 'QX50',\n",
       "        'pursuit', 'x-trail', 'GTO', 'xA', 'L300', 'Baja', '9-2X', 'Aerio',\n",
       "        'el', 'rainier', 'Silverado 2500', 'Astro', 'Tracker', 'intrepid',\n",
       "        'F-150 Heritage', 'expedit', 'accord', 'Freelander', 'c240w',\n",
       "        'MR2 Spyder', 'RS 6', '320i', 'Voyager', 'Axiom', 'cl55',\n",
       "        'Montero Sport', 'sl55', 'Protege', 'Silhouette', 'b1500',\n",
       "        'concorde', '626', 'Blackwood', 'Rodeo Sport', 'LX 470',\n",
       "        'Villager', 'Firebird', 'Aztek', 'Aurora', 'CL', 'EuroVan',\n",
       "        'Catera', 'Leganza', 'XG300', 'Prelude', 'Trooper', 'Prowler',\n",
       "        'Cabrio', 'Integra', 'cavalier', 'astro', 'excurs', 'dakota',\n",
       "        'Cirrus', 'twn&country', 'Jimmy', 'safari', 'ranger', 'sonoma',\n",
       "        'Sierra 2500', 'yukon', 'Sephia', 'Passport', 'Mirage', 'breeze',\n",
       "        'silhouette', 'villager', 'beetle', 'suburban', 'Lumina', 'Amigo',\n",
       "        'mountaineer', 'Esteem', 'pathfinder', 'quest', 'Breeze', 'e300dt',\n",
       "        'intrigue', 'lumina', 'Cabriolet', 'envoy', 'Cutlass', 'GS 400',\n",
       "        'E-150', 'Regency', 'thunderbird', 'B-Series Pickup', 'legacy',\n",
       "        'corsica', 'bronco', 'Le Baron', 'Caprice', 'Pickup', 'century',\n",
       "        '500-Class', '300-Class', 'previa', 'Murano CrossCabriolet',\n",
       "        'NV Cargo', 'Jetta Hybrid', 'S7', 'Encore', 'XTS',\n",
       "        'Black Diamond Avalanche', 'RLX', '2 Series', 'M6 Gran Coupe',\n",
       "        'regal', 'versa', 'BRZ', 'C/V Tradesman', 'Model S',\n",
       "        'Beetle Convertible', 'Golf R', 'routan', 'TSX Sport Wagon',\n",
       "        'interstate', 'a6', 'Corvette Stingray', 'SS', 'Mazdaspeed 3',\n",
       "        'i-MiEV', 'F430', 'EX35', 'swift', 'GranSport', 'escalade', 'neon',\n",
       "        'f350', 'Yukon Denali', 'Ghibli', '960', 'Cutlass Supreme',\n",
       "        'cougar', 'IS 350 C', 'lacrosse', 'tucson', '323i', 'cobalt', 'x3',\n",
       "        'Mazdaspeed MX-5 Miata', 'Ram Cargo', 'Safari', 'Eighty-Eight',\n",
       "        '850', 'J30', 'Promaster Cargo Van', 'sonic', 'rr', '1',\n",
       "        'Malibu Hybrid', '350', 'twn/cntry', 'Spirit', 'Accord Hybrid',\n",
       "        '3 Series Gran Turismo', 'e', 'cruze', 'c230', 'crossfire',\n",
       "        'Viper', 'Riviera', 'compass', 'Avalon Hybrid', 'RX-8',\n",
       "        'V8 Vantage', 'Equator', 'sportage', 'C/K 3500 Series',\n",
       "        'Mark VIII', 'charger', 'GranTurismo Convertible', 'avenger',\n",
       "        'equinox', 'allure', 'c240s', 'Vitara', 'avalon', 'eurovan',\n",
       "        'siera', 'pathfind', 'Eighty-Eight Royale', 'cherokee',\n",
       "        'ActiveHybrid 7', 'aveo', 'GS 460', 'Tribute Hybrid',\n",
       "        'Aura Hybrid', 'tahoe', 'g2500', '300ZX', 'Golf GTI', 'i-Series',\n",
       "        'golf', 'MKZ Hybrid', 'Macan', 'FX50', 'comm', 'STS-V',\n",
       "        'Windstar Cargo', 'CTS-V Wagon', 'Karma', '328i', 'Z4 M', '42c',\n",
       "        'subrbn', 'b2300', 'mountnr', 'Coupe', 'uplandr', 'Ram Van',\n",
       "        'Tempo', 'Tracer', 'CV Tradesman', 'DB9', 'C/K 2500 Series', 'i8',\n",
       "        'Rapide', 'Nubira', 'Corsica', 'NV Passenger', 'Spyder',\n",
       "        'LS 600h L', '400-Class', 'H3T', 'LX 450', 'WRX',\n",
       "        'Silverado 3500 Classic', '500e', 'Continental Supersports',\n",
       "        'Sierra 3500', 'Mystique', 'F-150 SVT Lightning', '190-Class',\n",
       "        'MKC', 'Aspire', '940', 'Gallardo',\n",
       "        'Continental Flying Spur Speed', '3000GT', 'TT RS', 'B-Series',\n",
       "        'ActiveHybrid 5', 'Sierra 1500 Hybrid', 'ML55 AMG', 'S-10 Blazer',\n",
       "        'RS 4', 'T100', 'Continental GTC Speed', 'mdx', 'Transit Van',\n",
       "        'F-250', 'Sidekick', 'E-250', '8 Series', '420-Class', 'E-350',\n",
       "        'Achieva', 'B-Class Electric Drive', 'Fleetwood', 'Paseo',\n",
       "        'Civic del Sol', 'Exige', 'X4', 'Spark EV', 'Transit Wagon', 'H1',\n",
       "        'SLS AMG GT', 'Flying Spur', 'Metro', 'Grand Cherokee SRT', 'RC F',\n",
       "        'Q3', '4 Series Gran Coupe', 'RC 350', '360', 'GLA-Class', 'TLX',\n",
       "        '458 Italia'], dtype=object),\n",
       " 'trim': array(['LX', '328i SULEV', 'T5', ..., 'pure', 'EWB', 'Power Wagon'],\n",
       "       dtype=object),\n",
       " 'body': array(['SUV', 'Sedan', 'Convertible', 'Coupe', 'Wagon', 'Hatchback',\n",
       "        'Crew Cab', 'G Coupe', 'G Sedan', 'Elantra Coupe', 'Genesis Coupe',\n",
       "        'Minivan', nan, 'Van', 'Double Cab', 'CrewMax Cab', 'Access Cab',\n",
       "        'King Cab', 'SuperCrew', 'CTS Coupe', 'Extended Cab',\n",
       "        'E-Series Van', 'SuperCab', 'Regular Cab', 'G Convertible', 'Koup',\n",
       "        'Quad Cab', 'CTS-V Coupe', 'sedan', 'G37 Convertible', 'Club Cab',\n",
       "        'Xtracab', 'Q60 Convertible', 'CTS Wagon', 'convertible',\n",
       "        'G37 Coupe', 'Mega Cab', 'Cab Plus 4', 'Q60 Coupe', 'Cab Plus',\n",
       "        'Beetle Convertible', 'TSX Sport Wagon', 'Promaster Cargo Van',\n",
       "        'GranTurismo Convertible', 'CTS-V Wagon', 'Ram Van', 'minivan',\n",
       "        'suv', 'Transit Van', 'Navitgation', 'van', 'regular-cab',\n",
       "        'g sedan', 'g coupe', 'hatchback', 'king cab', 'supercrew',\n",
       "        'g convertible', 'coupe', 'crew cab', 'wagon', 'double cab',\n",
       "        'e-series van', 'regular cab', 'quad cab', 'g37 convertible',\n",
       "        'supercab', 'extended cab', 'crewmax cab', 'genesis coupe',\n",
       "        'access cab', 'mega cab', 'xtracab', 'beetle convertible',\n",
       "        'cts coupe', 'koup', 'club cab', 'elantra coupe', 'q60 coupe',\n",
       "        'cts-v coupe', 'transit van', 'granturismo convertible',\n",
       "        'tsx sport wagon', 'promaster cargo van', 'q60 convertible',\n",
       "        'g37 coupe', 'cab plus 4', 'cts wagon'], dtype=object),\n",
       " 'transmission': array(['automatic', nan, 'manual', 'Sedan', 'sedan'], dtype=object),\n",
       " 'vin': array(['5xyktca69fg566472', '5xyktca69fg561319', 'wba3c1c51ek116351', ...,\n",
       "        '5uxzw0c58cl668465', '1n4al3ap0fc216050', '1ftfw1et2eke87277'],\n",
       "       dtype=object),\n",
       " 'state': array(['ca', 'tx', 'pa', 'mn', 'az', 'wi', 'tn', 'md', 'fl', 'ne', 'nj',\n",
       "        'nv', 'oh', 'mi', 'ga', 'va', 'sc', 'nc', 'in', 'il', 'co', 'ut',\n",
       "        'mo', 'ny', 'ma', 'pr', 'or', 'la', 'wa', 'hi', 'qc', 'ab', 'on',\n",
       "        'ok', 'ms', 'nm', 'al', '3vwd17aj4fm201708', 'ns',\n",
       "        '3vwd17aj2fm258506', '3vwd17aj3fm276741', '3vwd17aj2fm285365',\n",
       "        '3vwd17aj0fm227318', '3vwd17aj6fm218641', '3vwd17aj7fm223475',\n",
       "        '3vwd17aj5fm297123', '3vwd17aj5fm219943', '3vwd17aj9fm219766',\n",
       "        '3vwd17aj3fm259017', '3vwd17aj5fm206111', '3vwd17aj5fm273601',\n",
       "        '3vwd17aj5fm221322', '3vwd17aj5fm268964', '3vwd17aj6fm231972',\n",
       "        '3vwd17aj7fm222388', '3vwd17aj7fm218440', '3vwd17ajxfm315938',\n",
       "        '3vwd17aj7fm229552', '3vwd17aj8fm298895', '3vwd17aj4fm236636',\n",
       "        '3vwd17aj5fm225953', '3vwd17aj7fm326640', '3vwd17aj8fm239622',\n",
       "        '3vwd17aj2fm261566'], dtype=object),\n",
       " 'condition': array([ 5., 45., 41., 43.,  1., 34.,  2., 42.,  3., 48., nan, 49., 17.,\n",
       "        19., 29., 38., 44., 47., 32.,  4., 25., 37., 39., 31., 28., 46.,\n",
       "        36., 35., 26., 21., 22., 27., 24., 33., 23., 15., 16., 18., 12.,\n",
       "        14., 11., 13.]),\n",
       " 'odometer': array([ 16639.,   9393.,   1331., ..., 204835., 111069., 262065.]),\n",
       " 'color': array(['white', 'gray', 'black', 'red', 'silver', 'blue', 'brown',\n",
       "        'beige', 'purple', 'burgundy', '—', 'gold', 'yellow', 'green',\n",
       "        'charcoal', nan, 'orange', 'off-white', 'turquoise', 'pink',\n",
       "        'lime', '4802', '9410', '1167', '2172', '14872', '12655', '15719',\n",
       "        '6388', '16633', '11034', '2711', '6864', '339', '18384', '9887',\n",
       "        '9837', '20379', '20627', '721', '6158', '2817', '5705', '18561',\n",
       "        '2846', '9562', '5001'], dtype=object),\n",
       " 'interior': array(['black', 'beige', 'tan', '—', 'gray', 'brown', 'burgundy', 'white',\n",
       "        nan, 'silver', 'off-white', 'blue', 'red', 'yellow', 'green',\n",
       "        'purple', 'orange', 'gold'], dtype=object),\n",
       " 'seller': array(['kia motors america  inc',\n",
       "        'financial services remarketing (lease)',\n",
       "        'volvo na rep/world omni', ..., 'maserati north america inc',\n",
       "        'alternative financial group inc', 'i -5 uhlmann rv'], dtype=object),\n",
       " 'mmr': array([ 20500.,  20800.,  31900., ..., 182000., 119000., 164000.]),\n",
       " 'sellingprice': array([ 21500.,  30000.,  27750., ..., 169000.,  16550.,  27840.]),\n",
       " 'saledate': array(['Tue Dec 16 2014 12:30:00 GMT-0800 (PST)',\n",
       "        'Thu Jan 15 2015 04:30:00 GMT-0800 (PST)',\n",
       "        'Thu Jan 29 2015 04:30:00 GMT-0800 (PST)', ...,\n",
       "        'Tue Jul 07 2015 08:45:00 GMT-0700 (PDT)',\n",
       "        'Thu Jul 02 2015 13:20:00 GMT-0700 (PDT)',\n",
       "        'Wed Jul 08 2015 09:45:00 GMT-0700 (PDT)'], dtype=object)}"
      ]
     },
     "execution_count": 8,
     "metadata": {},
     "output_type": "execute_result"
    }
   ],
   "source": [
    "unique_values"
   ]
  },
  {
   "cell_type": "code",
   "execution_count": 9,
   "id": "30a837c9",
   "metadata": {},
   "outputs": [
    {
     "name": "stdout",
     "output_type": "stream",
     "text": [
      "The number of unique numeric values for feature \"year\": 34\n",
      "The number of unique stringvalues for feature \"make\": 97\n",
      "The number of unique stringvalues for feature \"model\": 974\n",
      "The number of unique stringvalues for feature \"trim\": 1964\n",
      "The number of unique stringvalues for feature \"body\": 88\n",
      "The number of unique string values for feature \"transmission\": 5 -- ['automatic' nan 'manual' 'Sedan' 'sedan']\n",
      "The number of unique stringvalues for feature \"vin\": 550298\n",
      "The number of unique stringvalues for feature \"state\": 64\n",
      "The number of unique numeric values for feature \"condition\": 42\n",
      "The number of unique numeric values for feature \"odometer\": 172279\n",
      "The number of unique stringvalues for feature \"color\": 47\n",
      "The number of unique stringvalues for feature \"interior\": 18\n",
      "The number of unique stringvalues for feature \"seller\": 14263\n",
      "The number of unique numeric values for feature \"mmr\": 1102\n",
      "The number of unique numeric values for feature \"sellingprice\": 1888\n",
      "The number of unique stringvalues for feature \"saledate\": 3767\n"
     ]
    }
   ],
   "source": [
    "for column in car_df:\n",
    "    if car_df[column].dtype == 'object':\n",
    "        unique_vals = car_df[column].unique()\n",
    "        nr_values = len(unique_vals)\n",
    "        if nr_values < 10:\n",
    "            print(f'The number of unique string values for feature \"{column}\": {nr_values} -- {unique_vals}')\n",
    "        else:\n",
    "            print(f'The number of unique stringvalues for feature \"{column}\": {nr_values}')\n",
    "    else:\n",
    "        unique_vals = np.unique(car_df[column])\n",
    "        nr_values = len(unique_vals)\n",
    "        if nr_values < 10:\n",
    "            print(f'The number of unique numeric values for feature \"{column}\": {nr_values} -- {unique_vals}')\n",
    "        else:\n",
    "            print(f'The number of unique numeric values for feature \"{column}\": {nr_values}')\n"
   ]
  },
  {
   "cell_type": "code",
   "execution_count": 10,
   "id": "92b80168",
   "metadata": {},
   "outputs": [],
   "source": [
    "car_df['transmission'] = car_df['transmission'].str.replace('sedan','Sedan')"
   ]
  },
  {
   "cell_type": "code",
   "execution_count": 11,
   "id": "293b08ac",
   "metadata": {},
   "outputs": [
    {
     "data": {
      "text/plain": [
       "automatic    475915\n",
       "manual        17544\n",
       "Sedan            26\n",
       "Name: transmission, dtype: int64"
      ]
     },
     "execution_count": 11,
     "metadata": {},
     "output_type": "execute_result"
    }
   ],
   "source": [
    "car_df['transmission'].value_counts()"
   ]
  },
  {
   "cell_type": "code",
   "execution_count": 12,
   "id": "a07135c6",
   "metadata": {},
   "outputs": [],
   "source": [
    "car_df = car_df.drop([\"saledate\", \"vin\"], axis = 1)"
   ]
  },
  {
   "cell_type": "code",
   "execution_count": 13,
   "id": "e8291c16",
   "metadata": {},
   "outputs": [
    {
     "data": {
      "text/plain": [
       "Index(['year', 'make', 'model', 'trim', 'body', 'transmission', 'state',\n",
       "       'condition', 'odometer', 'color', 'interior', 'seller', 'mmr',\n",
       "       'sellingprice'],\n",
       "      dtype='object')"
      ]
     },
     "execution_count": 13,
     "metadata": {},
     "output_type": "execute_result"
    }
   ],
   "source": [
    "car_df.columns"
   ]
  },
  {
   "cell_type": "code",
   "execution_count": 14,
   "id": "616e1a3a",
   "metadata": {},
   "outputs": [
    {
     "data": {
      "text/plain": [
       "year                0\n",
       "make            10301\n",
       "model           10399\n",
       "trim            10651\n",
       "body            13195\n",
       "transmission    65352\n",
       "state               0\n",
       "condition       11820\n",
       "odometer           94\n",
       "color             749\n",
       "interior          749\n",
       "seller              0\n",
       "mmr                38\n",
       "sellingprice       12\n",
       "dtype: int64"
      ]
     },
     "execution_count": 14,
     "metadata": {},
     "output_type": "execute_result"
    }
   ],
   "source": [
    "car_df.isnull().sum()"
   ]
  },
  {
   "cell_type": "code",
   "execution_count": 15,
   "id": "116258fa",
   "metadata": {},
   "outputs": [],
   "source": [
    "num_col = car_df.select_dtypes(include = [np.number]).columns.tolist()\n",
    "cat_col = car_df.select_dtypes(include = [\"object\"]).columns.tolist()"
   ]
  },
  {
   "cell_type": "code",
   "execution_count": 16,
   "id": "78b6f76b",
   "metadata": {},
   "outputs": [
    {
     "name": "stdout",
     "output_type": "stream",
     "text": [
      "['make', 'model', 'trim', 'body', 'transmission', 'state', 'color', 'interior', 'seller']\n",
      "['year', 'condition', 'odometer', 'mmr', 'sellingprice']\n"
     ]
    }
   ],
   "source": [
    "print(cat_col)\n",
    "print(num_col)"
   ]
  },
  {
   "cell_type": "code",
   "execution_count": 17,
   "id": "6141b0bf",
   "metadata": {},
   "outputs": [
    {
     "name": "stdout",
     "output_type": "stream",
     "text": [
      "The most frequent value for feature make is Ford with a frequency of 93554.\n",
      "The most frequent value for feature model is Altima with a frequency of 19349.\n",
      "The most frequent value for feature trim is Base with a frequency of 55817.\n",
      "The most frequent value for feature body is Sedan with a frequency of 199437.\n",
      "The most frequent value for feature transmission is automatic with a frequency of 475915.\n",
      "The most frequent value for feature state is fl with a frequency of 82945.\n",
      "The most frequent value for feature color is black with a frequency of 110970.\n",
      "The most frequent value for feature interior is black with a frequency of 244329.\n",
      "The most frequent value for feature seller is nissan-infiniti lt with a frequency of 19693.\n"
     ]
    }
   ],
   "source": [
    "for column in cat_col:\n",
    "    most_frequent_value = car_df[column].value_counts().idxmax()\n",
    "    frequency = car_df[column].value_counts().max()\n",
    "    print(f'The most frequent value for feature {column} is {most_frequent_value} with a frequency of {frequency}.')"
   ]
  },
  {
   "cell_type": "code",
   "execution_count": 18,
   "id": "e1fae954",
   "metadata": {},
   "outputs": [],
   "source": [
    "car_df.fillna({'make': 'Ford', 'model' : 'Altima', 'trim': 'Base','body' : 'Sedan', 'transmission' : 'automatic', \n",
    "                'color' : 'black', 'interior' : 'black'}, \n",
    "              inplace=True)"
   ]
  },
  {
   "cell_type": "code",
   "execution_count": 19,
   "id": "f4453cd1",
   "metadata": {},
   "outputs": [
    {
     "data": {
      "text/plain": [
       "year                0\n",
       "make                0\n",
       "model               0\n",
       "trim                0\n",
       "body                0\n",
       "transmission        0\n",
       "state               0\n",
       "condition       11820\n",
       "odometer           94\n",
       "color               0\n",
       "interior            0\n",
       "seller              0\n",
       "mmr                38\n",
       "sellingprice       12\n",
       "dtype: int64"
      ]
     },
     "execution_count": 19,
     "metadata": {},
     "output_type": "execute_result"
    }
   ],
   "source": [
    "car_df.isnull().sum()"
   ]
  },
  {
   "cell_type": "code",
   "execution_count": 20,
   "id": "75bbaa24",
   "metadata": {},
   "outputs": [
    {
     "name": "stdout",
     "output_type": "stream",
     "text": [
      "The most frequent value for column \"year\" is \"2012\" with a frequency of 102315.\n",
      "The most frequent value for column \"condition\" is \"19.0\" with a frequency of 42281.\n",
      "The most frequent value for column \"odometer\" is \"1.0\" with a frequency of 1318.\n",
      "The most frequent value for column \"mmr\" is \"12500.0\" with a frequency of 1761.\n",
      "The most frequent value for column \"sellingprice\" is \"11000.0\" with a frequency of 4453.\n"
     ]
    }
   ],
   "source": [
    "for column in num_col:\n",
    "    most_frequent_value = car_df[column].value_counts().idxmax()\n",
    "    frequency = car_df[column].value_counts().max()\n",
    "    print(f'The most frequent value for column \"{column}\" is \"{most_frequent_value}\" with a frequency of {frequency}.')"
   ]
  },
  {
   "cell_type": "code",
   "execution_count": 21,
   "id": "37fa7cbd",
   "metadata": {},
   "outputs": [],
   "source": [
    "car_df[['condition','odometer','mmr','sellingprice']] = car_df[['condition','odometer','mmr','sellingprice']].fillna(\n",
    "    car_df[['condition','odometer','mmr','sellingprice']].median())"
   ]
  },
  {
   "cell_type": "code",
   "execution_count": 22,
   "id": "3b464fbf",
   "metadata": {},
   "outputs": [
    {
     "data": {
      "text/plain": [
       "year            0\n",
       "make            0\n",
       "model           0\n",
       "trim            0\n",
       "body            0\n",
       "transmission    0\n",
       "state           0\n",
       "condition       0\n",
       "odometer        0\n",
       "color           0\n",
       "interior        0\n",
       "seller          0\n",
       "mmr             0\n",
       "sellingprice    0\n",
       "dtype: int64"
      ]
     },
     "execution_count": 22,
     "metadata": {},
     "output_type": "execute_result"
    }
   ],
   "source": [
    "car_df.isnull().sum()"
   ]
  },
  {
   "cell_type": "code",
   "execution_count": 23,
   "id": "faca0c7c",
   "metadata": {},
   "outputs": [
    {
     "name": "stderr",
     "output_type": "stream",
     "text": [
      "C:\\Users\\Tahmida\\AppData\\Local\\Temp\\ipykernel_16304\\735117326.py:1: FutureWarning: The default value of numeric_only in DataFrame.corr is deprecated. In a future version, it will default to False. Select only valid columns or specify the value of numeric_only to silence this warning.\n",
      "  corr_matrix = car_df.corr()\n"
     ]
    }
   ],
   "source": [
    "corr_matrix = car_df.corr()"
   ]
  },
  {
   "cell_type": "code",
   "execution_count": 24,
   "id": "747807be",
   "metadata": {},
   "outputs": [
    {
     "name": "stderr",
     "output_type": "stream",
     "text": [
      "C:\\Users\\Tahmida\\AppData\\Local\\Temp\\ipykernel_16304\\2636085371.py:1: FutureWarning: this method is deprecated in favour of `Styler.format(precision=..)`\n",
      "  corr_matrix.style.background_gradient(cmap='coolwarm').set_precision(3)\n"
     ]
    },
    {
     "data": {
      "text/html": [
       "<style type=\"text/css\">\n",
       "#T_6a6be_row0_col0, #T_6a6be_row1_col1, #T_6a6be_row2_col2, #T_6a6be_row3_col3, #T_6a6be_row4_col4 {\n",
       "  background-color: #b40426;\n",
       "  color: #f1f1f1;\n",
       "}\n",
       "#T_6a6be_row0_col1 {\n",
       "  background-color: #d8dce2;\n",
       "  color: #000000;\n",
       "}\n",
       "#T_6a6be_row0_col2, #T_6a6be_row2_col0, #T_6a6be_row2_col1, #T_6a6be_row2_col3, #T_6a6be_row2_col4 {\n",
       "  background-color: #3b4cc0;\n",
       "  color: #f1f1f1;\n",
       "}\n",
       "#T_6a6be_row0_col3 {\n",
       "  background-color: #f59c7d;\n",
       "  color: #000000;\n",
       "}\n",
       "#T_6a6be_row0_col4 {\n",
       "  background-color: #f59d7e;\n",
       "  color: #000000;\n",
       "}\n",
       "#T_6a6be_row1_col0 {\n",
       "  background-color: #f4c6af;\n",
       "  color: #000000;\n",
       "}\n",
       "#T_6a6be_row1_col2 {\n",
       "  background-color: #92b4fe;\n",
       "  color: #000000;\n",
       "}\n",
       "#T_6a6be_row1_col3 {\n",
       "  background-color: #e7d7ce;\n",
       "  color: #000000;\n",
       "}\n",
       "#T_6a6be_row1_col4 {\n",
       "  background-color: #ecd3c5;\n",
       "  color: #000000;\n",
       "}\n",
       "#T_6a6be_row3_col0 {\n",
       "  background-color: #f29072;\n",
       "  color: #f1f1f1;\n",
       "}\n",
       "#T_6a6be_row3_col1 {\n",
       "  background-color: #cdd9ec;\n",
       "  color: #000000;\n",
       "}\n",
       "#T_6a6be_row3_col2 {\n",
       "  background-color: #5a78e4;\n",
       "  color: #f1f1f1;\n",
       "}\n",
       "#T_6a6be_row3_col4, #T_6a6be_row4_col3 {\n",
       "  background-color: #b70d28;\n",
       "  color: #f1f1f1;\n",
       "}\n",
       "#T_6a6be_row4_col0 {\n",
       "  background-color: #f29274;\n",
       "  color: #f1f1f1;\n",
       "}\n",
       "#T_6a6be_row4_col1 {\n",
       "  background-color: #d6dce4;\n",
       "  color: #000000;\n",
       "}\n",
       "#T_6a6be_row4_col2 {\n",
       "  background-color: #5b7ae5;\n",
       "  color: #f1f1f1;\n",
       "}\n",
       "</style>\n",
       "<table id=\"T_6a6be\">\n",
       "  <thead>\n",
       "    <tr>\n",
       "      <th class=\"blank level0\" >&nbsp;</th>\n",
       "      <th id=\"T_6a6be_level0_col0\" class=\"col_heading level0 col0\" >year</th>\n",
       "      <th id=\"T_6a6be_level0_col1\" class=\"col_heading level0 col1\" >condition</th>\n",
       "      <th id=\"T_6a6be_level0_col2\" class=\"col_heading level0 col2\" >odometer</th>\n",
       "      <th id=\"T_6a6be_level0_col3\" class=\"col_heading level0 col3\" >mmr</th>\n",
       "      <th id=\"T_6a6be_level0_col4\" class=\"col_heading level0 col4\" >sellingprice</th>\n",
       "    </tr>\n",
       "  </thead>\n",
       "  <tbody>\n",
       "    <tr>\n",
       "      <th id=\"T_6a6be_level0_row0\" class=\"row_heading level0 row0\" >year</th>\n",
       "      <td id=\"T_6a6be_row0_col0\" class=\"data row0 col0\" >1.000</td>\n",
       "      <td id=\"T_6a6be_row0_col1\" class=\"data row0 col1\" >0.324</td>\n",
       "      <td id=\"T_6a6be_row0_col2\" class=\"data row0 col2\" >-0.772</td>\n",
       "      <td id=\"T_6a6be_row0_col3\" class=\"data row0 col3\" >0.597</td>\n",
       "      <td id=\"T_6a6be_row0_col4\" class=\"data row0 col4\" >0.586</td>\n",
       "    </tr>\n",
       "    <tr>\n",
       "      <th id=\"T_6a6be_level0_row1\" class=\"row_heading level0 row1\" >condition</th>\n",
       "      <td id=\"T_6a6be_row1_col0\" class=\"data row1 col0\" >0.324</td>\n",
       "      <td id=\"T_6a6be_row1_col1\" class=\"data row1 col1\" >1.000</td>\n",
       "      <td id=\"T_6a6be_row1_col2\" class=\"data row1 col2\" >-0.305</td>\n",
       "      <td id=\"T_6a6be_row1_col3\" class=\"data row1 col3\" >0.273</td>\n",
       "      <td id=\"T_6a6be_row1_col4\" class=\"data row1 col4\" >0.313</td>\n",
       "    </tr>\n",
       "    <tr>\n",
       "      <th id=\"T_6a6be_level0_row2\" class=\"row_heading level0 row2\" >odometer</th>\n",
       "      <td id=\"T_6a6be_row2_col0\" class=\"data row2 col0\" >-0.772</td>\n",
       "      <td id=\"T_6a6be_row2_col1\" class=\"data row2 col1\" >-0.305</td>\n",
       "      <td id=\"T_6a6be_row2_col2\" class=\"data row2 col2\" >1.000</td>\n",
       "      <td id=\"T_6a6be_row2_col3\" class=\"data row2 col3\" >-0.588</td>\n",
       "      <td id=\"T_6a6be_row2_col4\" class=\"data row2 col4\" >-0.582</td>\n",
       "    </tr>\n",
       "    <tr>\n",
       "      <th id=\"T_6a6be_level0_row3\" class=\"row_heading level0 row3\" >mmr</th>\n",
       "      <td id=\"T_6a6be_row3_col0\" class=\"data row3 col0\" >0.597</td>\n",
       "      <td id=\"T_6a6be_row3_col1\" class=\"data row3 col1\" >0.273</td>\n",
       "      <td id=\"T_6a6be_row3_col2\" class=\"data row3 col2\" >-0.588</td>\n",
       "      <td id=\"T_6a6be_row3_col3\" class=\"data row3 col3\" >1.000</td>\n",
       "      <td id=\"T_6a6be_row3_col4\" class=\"data row3 col4\" >0.984</td>\n",
       "    </tr>\n",
       "    <tr>\n",
       "      <th id=\"T_6a6be_level0_row4\" class=\"row_heading level0 row4\" >sellingprice</th>\n",
       "      <td id=\"T_6a6be_row4_col0\" class=\"data row4 col0\" >0.586</td>\n",
       "      <td id=\"T_6a6be_row4_col1\" class=\"data row4 col1\" >0.313</td>\n",
       "      <td id=\"T_6a6be_row4_col2\" class=\"data row4 col2\" >-0.582</td>\n",
       "      <td id=\"T_6a6be_row4_col3\" class=\"data row4 col3\" >0.984</td>\n",
       "      <td id=\"T_6a6be_row4_col4\" class=\"data row4 col4\" >1.000</td>\n",
       "    </tr>\n",
       "  </tbody>\n",
       "</table>\n"
      ],
      "text/plain": [
       "<pandas.io.formats.style.Styler at 0x1a71af2d090>"
      ]
     },
     "execution_count": 24,
     "metadata": {},
     "output_type": "execute_result"
    }
   ],
   "source": [
    "corr_matrix.style.background_gradient(cmap='coolwarm').set_precision(3)"
   ]
  },
  {
   "cell_type": "code",
   "execution_count": 25,
   "id": "aa93ca65",
   "metadata": {},
   "outputs": [],
   "source": [
    "#car_price_cleaned = car_df.to_csv('car_price_cleaned.csv', index = True) "
   ]
  },
  {
   "cell_type": "code",
   "execution_count": 26,
   "id": "61e3b1bd",
   "metadata": {},
   "outputs": [
    {
     "name": "stdout",
     "output_type": "stream",
     "text": [
      "1.1471034835808087\n"
     ]
    }
   ],
   "source": [
    "Sum_mmr = car_df[\"mmr\"].sum()\n",
    "\n",
    "Sum_sel = car_df[\"sellingprice\"].sum()\n",
    "\n",
    "summ = (Sum_mmr-Sum_sel)/(Sum_mmr)\n",
    "\n",
    "print(summ * 100)"
   ]
  },
  {
   "cell_type": "code",
   "execution_count": 27,
   "id": "7ff5945b",
   "metadata": {},
   "outputs": [
    {
     "data": {
      "text/plain": [
       "7694779875.0"
      ]
     },
     "execution_count": 27,
     "metadata": {},
     "output_type": "execute_result"
    }
   ],
   "source": [
    "Sum_mmr"
   ]
  },
  {
   "cell_type": "code",
   "execution_count": 28,
   "id": "bea7dac5",
   "metadata": {},
   "outputs": [
    {
     "data": {
      "text/plain": [
       "7606512787.0"
      ]
     },
     "execution_count": 28,
     "metadata": {},
     "output_type": "execute_result"
    }
   ],
   "source": [
    "Sum_sel"
   ]
  },
  {
   "cell_type": "code",
   "execution_count": 29,
   "id": "9d274533",
   "metadata": {},
   "outputs": [
    {
     "data": {
      "text/plain": [
       "0.011471034835808087"
      ]
     },
     "execution_count": 29,
     "metadata": {},
     "output_type": "execute_result"
    }
   ],
   "source": [
    "summ"
   ]
  },
  {
   "cell_type": "code",
   "execution_count": 30,
   "id": "6c4e93ce",
   "metadata": {},
   "outputs": [
    {
     "data": {
      "text/plain": [
       "1.1471034835808087"
      ]
     },
     "execution_count": 30,
     "metadata": {},
     "output_type": "execute_result"
    }
   ],
   "source": [
    "summ * 100"
   ]
  }
 ],
 "metadata": {
  "kernelspec": {
   "display_name": "Python 3 (ipykernel)",
   "language": "python",
   "name": "python3"
  },
  "language_info": {
   "codemirror_mode": {
    "name": "ipython",
    "version": 3
   },
   "file_extension": ".py",
   "mimetype": "text/x-python",
   "name": "python",
   "nbconvert_exporter": "python",
   "pygments_lexer": "ipython3",
   "version": "3.11.4"
  }
 },
 "nbformat": 4,
 "nbformat_minor": 5
}
